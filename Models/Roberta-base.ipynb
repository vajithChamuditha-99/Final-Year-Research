{
 "metadata": {
  "kernelspec": {
   "language": "python",
   "display_name": "Python 3",
   "name": "python3"
  },
  "language_info": {
   "name": "python",
   "version": "3.7.12",
   "mimetype": "text/x-python",
   "codemirror_mode": {
    "name": "ipython",
    "version": 3
   },
   "pygments_lexer": "ipython3",
   "nbconvert_exporter": "python",
   "file_extension": ".py"
  }
 },
 "nbformat_minor": 4,
 "nbformat": 4,
 "cells": [
  {
   "cell_type": "code",
   "source": [
    "import numpy as np\n",
    "import regex as re\n",
    "import pandas as pd\n",
    "import matplotlib.pyplot as plt\n",
    "import seaborn as sns\n",
    "import statistics\n",
    "import math\n",
    "import os\n",
    "\n",
    "from sklearn.model_selection import StratifiedKFold\n",
    "from sklearn.metrics import accuracy_score\n",
    "from sklearn.model_selection import train_test_split\n",
    "\n",
    "import tensorflow as tf\n",
    "import tensorflow.keras.backend as K\n",
    "import tokenizers\n",
    "from transformers import RobertaTokenizer, TFRobertaModel\n",
    "\n",
    "from collections import Counter\n",
    "\n",
    "import warnings\n",
    "warnings.filterwarnings(\"ignore\")"
   ],
   "metadata": {
    "execution": {
     "iopub.status.busy": "2023-04-02T16:47:24.994483Z",
     "iopub.execute_input": "2023-04-02T16:47:24.995038Z",
     "iopub.status.idle": "2023-04-02T16:47:35.901812Z",
     "shell.execute_reply.started": "2023-04-02T16:47:24.994995Z",
     "shell.execute_reply": "2023-04-02T16:47:35.900725Z"
    },
    "trusted": true
   },
   "execution_count": 1,
   "outputs": []
  },
  {
   "cell_type": "code",
   "source": [
    "try:\n",
    "    tpu = tf.distribute.cluster_resolver.TPUClusterResolver()\n",
    "    tf.config.experimental_connect_to_cluster(tpu)\n",
    "    tf.tpu.experimental.initialize_tpu_system(tpu)\n",
    "    strategy = tf.distribute.experimental.TPUStrategy(tpu)\n",
    "    print('Running on TPU ', tpu.master())\n",
    "except ValueError:\n",
    "    strategy = tf.distribute.get_strategy()\n",
    "\n",
    "print('Number of replicas:', strategy.num_replicas_in_sync)"
   ],
   "metadata": {
    "execution": {
     "iopub.status.busy": "2023-04-02T16:47:35.904384Z",
     "iopub.execute_input": "2023-04-02T16:47:35.905037Z",
     "iopub.status.idle": "2023-04-02T16:47:35.919317Z",
     "shell.execute_reply.started": "2023-04-02T16:47:35.904996Z",
     "shell.execute_reply": "2023-04-02T16:47:35.918327Z"
    },
    "trusted": true
   },
   "execution_count": 2,
   "outputs": [
    {
     "name": "stdout",
     "text": "Number of replicas: 1\n",
     "output_type": "stream"
    }
   ]
  },
  {
   "cell_type": "code",
   "source": [
    "MODEL_NAME = 'roberta-base'\n",
    "MAX_LEN = 256\n",
    "ARTIFACTS_PATH = '../artifacts/'\n",
    "\n",
    "BATCH_SIZE = 8 * strategy.num_replicas_in_sync\n",
    "EPOCHS = 20\n",
    "\n",
    "if not os.path.exists(ARTIFACTS_PATH):\n",
    "    os.makedirs(ARTIFACTS_PATH)"
   ],
   "metadata": {
    "execution": {
     "iopub.status.busy": "2023-04-02T16:47:35.920762Z",
     "iopub.execute_input": "2023-04-02T16:47:35.921511Z",
     "iopub.status.idle": "2023-04-02T16:47:35.927478Z",
     "shell.execute_reply.started": "2023-04-02T16:47:35.921474Z",
     "shell.execute_reply": "2023-04-02T16:47:35.926471Z"
    },
    "trusted": true
   },
   "execution_count": 3,
   "outputs": []
  },
  {
   "cell_type": "code",
   "source": [
    "df = pd.read_csv('/kaggle/input/cbd-dataset/cleaned_dataset.csv')\n",
    "df.head()"
   ],
   "metadata": {
    "execution": {
     "iopub.status.busy": "2023-04-02T16:47:35.930451Z",
     "iopub.execute_input": "2023-04-02T16:47:35.930965Z",
     "iopub.status.idle": "2023-04-02T16:47:36.030783Z",
     "shell.execute_reply.started": "2023-04-02T16:47:35.930926Z",
     "shell.execute_reply": "2023-04-02T16:47:36.029852Z"
    },
    "trusted": true
   },
   "execution_count": 4,
   "outputs": [
    {
     "execution_count": 4,
     "output_type": "execute_result",
     "data": {
      "text/plain": "   Unnamed: 0  id                                            comment  \\\n0           0   1  @USER @USER අනේ බන් ප්ලෙන්ටියක් බොන්න සල්ලි නෑ...   \n1           1   2  \"RT @randeera: කවුරු මොනා කිවුවත් පොඩ්ඩක් කියල...   \n2           2   3                                    කාලකන්නි  බල්ලො   \n3           3   4                               පොලූ කනකොට ඔහොම තමයි   \n4           4   5  පොට්ට වේසි- යුද්දෙන් 3/4 ක් ඉවර කලේ මම (චන්ද්‍...   \n\n         lable                                       Text_cleaned  \n0  Hate speech           අනේ බන් ප්ලෙන්ටියක් බොන්න සල්ලි නෑ හුත්ත  \n1      Neutral  කවුරු මොනා කිවුවත් පොඩ්ඩක් කියලා බලපන් පල්ලියක...  \n2  Hate speech                                    කාලකන්නි  බල්ලො  \n3  Hate speech                               පොලූ කනකොට ඔහොම තමයි  \n4  Hate speech  පොට්ට වේසි යුද්දෙන්  ක් ඉවර කලේ මම චන්ද්‍රිකා ...  ",
      "text/html": "<div>\n<style scoped>\n    .dataframe tbody tr th:only-of-type {\n        vertical-align: middle;\n    }\n\n    .dataframe tbody tr th {\n        vertical-align: top;\n    }\n\n    .dataframe thead th {\n        text-align: right;\n    }\n</style>\n<table border=\"1\" class=\"dataframe\">\n  <thead>\n    <tr style=\"text-align: right;\">\n      <th></th>\n      <th>Unnamed: 0</th>\n      <th>id</th>\n      <th>comment</th>\n      <th>lable</th>\n      <th>Text_cleaned</th>\n    </tr>\n  </thead>\n  <tbody>\n    <tr>\n      <th>0</th>\n      <td>0</td>\n      <td>1</td>\n      <td>@USER @USER අනේ බන් ප්ලෙන්ටියක් බොන්න සල්ලි නෑ...</td>\n      <td>Hate speech</td>\n      <td>අනේ බන් ප්ලෙන්ටියක් බොන්න සල්ලි නෑ හුත්ත</td>\n    </tr>\n    <tr>\n      <th>1</th>\n      <td>1</td>\n      <td>2</td>\n      <td>\"RT @randeera: කවුරු මොනා කිවුවත් පොඩ්ඩක් කියල...</td>\n      <td>Neutral</td>\n      <td>කවුරු මොනා කිවුවත් පොඩ්ඩක් කියලා බලපන් පල්ලියක...</td>\n    </tr>\n    <tr>\n      <th>2</th>\n      <td>2</td>\n      <td>3</td>\n      <td>කාලකන්නි  බල්ලො</td>\n      <td>Hate speech</td>\n      <td>කාලකන්නි  බල්ලො</td>\n    </tr>\n    <tr>\n      <th>3</th>\n      <td>3</td>\n      <td>4</td>\n      <td>පොලූ කනකොට ඔහොම තමයි</td>\n      <td>Hate speech</td>\n      <td>පොලූ කනකොට ඔහොම තමයි</td>\n    </tr>\n    <tr>\n      <th>4</th>\n      <td>4</td>\n      <td>5</td>\n      <td>පොට්ට වේසි- යුද්දෙන් 3/4 ක් ඉවර කලේ මම (චන්ද්‍...</td>\n      <td>Hate speech</td>\n      <td>පොට්ට වේසි යුද්දෙන්  ක් ඉවර කලේ මම චන්ද්‍රිකා ...</td>\n    </tr>\n  </tbody>\n</table>\n</div>"
     },
     "metadata": {}
    }
   ]
  },
  {
   "cell_type": "code",
   "source": [
    "X_data = df[['Text_cleaned']].to_numpy().reshape(-1)\n",
    "y_data = df[['lable']].to_numpy().reshape(-1)"
   ],
   "metadata": {
    "execution": {
     "iopub.status.busy": "2023-04-02T16:47:36.032145Z",
     "iopub.execute_input": "2023-04-02T16:47:36.032510Z",
     "iopub.status.idle": "2023-04-02T16:47:36.043330Z",
     "shell.execute_reply.started": "2023-04-02T16:47:36.032471Z",
     "shell.execute_reply": "2023-04-02T16:47:36.042131Z"
    },
    "trusted": true
   },
   "execution_count": 5,
   "outputs": []
  },
  {
   "cell_type": "code",
   "source": [
    "categories = df[['lable']].values.reshape(-1)\n",
    "\n",
    "counter_categories = Counter(categories)\n",
    "category_names = counter_categories.keys()\n",
    "category_values = counter_categories.values()\n",
    "\n",
    "y_pos = np.arange(len(category_names))\n",
    "\n",
    "plt.figure(1, figsize=(10, 5))\n",
    "plt.bar(y_pos, category_values, align='center', alpha=0.5)\n",
    "plt.xticks(y_pos, category_names)\n",
    "plt.ylabel('Number of texts')\n",
    "plt.title('Distribution of texts per category')\n",
    "plt.gca().yaxis.grid(True)\n",
    "plt.show()\n",
    "\n",
    "print(counter_categories)"
   ],
   "metadata": {
    "execution": {
     "iopub.status.busy": "2023-04-02T16:47:36.045195Z",
     "iopub.execute_input": "2023-04-02T16:47:36.045601Z",
     "iopub.status.idle": "2023-04-02T16:47:36.265451Z",
     "shell.execute_reply.started": "2023-04-02T16:47:36.045522Z",
     "shell.execute_reply": "2023-04-02T16:47:36.264351Z"
    },
    "trusted": true
   },
   "execution_count": 6,
   "outputs": [
    {
     "output_type": "display_data",
     "data": {
      "text/plain": "<Figure size 1000x500 with 1 Axes>",
      "image/png": "[encoded data removed]"
     },
     "metadata": {}
    },
    {
     "name": "stdout",
     "text": "Counter({'Hate speech': 1339, 'Neutral': 1238, 'Sexism': 1046, 'Racist': 1036})\n",
     "output_type": "stream"
    }
   ]
  },
  {
   "cell_type": "code",
   "source": [
    "def calculate_stats(df, split_char=' '):\n",
    "    categories = df['lable'].unique()\n",
    "    \n",
    "    all_lengths = []\n",
    "    per_category = {\n",
    "        'lengths': {c:[] for c in categories},\n",
    "        'mean': {c:0 for c in categories},\n",
    "        'stdev': {c:0 for c in categories}\n",
    "    }\n",
    "\n",
    "    for index, row in df.iterrows():\n",
    "        text = row['Text_cleaned']\n",
    "        text = re.sub(r\"\\s+\", ' ', text) # Normalize\n",
    "        text = text.split(split_char)\n",
    "        l = len(text)\n",
    "        \n",
    "        category = row['lable']\n",
    "        \n",
    "        all_lengths.append(l)\n",
    "        per_category['lengths'][category].append(l)\n",
    "    \n",
    "    for c in categories:\n",
    "        per_category['mean'][c] = statistics.mean(per_category['lengths'][c])\n",
    "        per_category['stdev'][c] = statistics.stdev(per_category['lengths'][c])\n",
    "    \n",
    "    global_stats = {\n",
    "        'mean': statistics.mean(all_lengths),\n",
    "        'stdev': statistics.stdev(all_lengths),\n",
    "        'lengths': all_lengths\n",
    "    }\n",
    "    \n",
    "    return {\n",
    "        'global': global_stats,\n",
    "        'per_category': pd.DataFrame(per_category)\n",
    "    }\n",
    "\n",
    "\n",
    "def display_lengths_histograms(df_stats, n_cols=3):\n",
    "    categories = df['lable'].unique()\n",
    "    n_rows = math.ceil(len(categories) / n_cols)\n",
    "    \n",
    "    plt.figure(figsize=(15, 8))\n",
    "    plt.suptitle('Distribution of lengths')\n",
    "    \n",
    "    # Subplot of all lengths\n",
    "    plt.subplot(n_rows, n_cols, 1)\n",
    "    plt.title('All categories')\n",
    "    lengths = df_stats['global']['lengths']\n",
    "    plt.hist(lengths, color='r')\n",
    "\n",
    "    # Subplot of each category\n",
    "    index_subplot = 2\n",
    "    for c in categories:\n",
    "        plt.subplot(n_rows, n_cols, index_subplot)\n",
    "        plt.title('Category: %s' % c)\n",
    "        \n",
    "        lengths = df_stats['per_category']['lengths'][c]\n",
    "        plt.hist(lengths, color='b')\n",
    "\n",
    "        index_subplot += 1\n",
    "\n",
    "    plt.show()"
   ],
   "metadata": {
    "execution": {
     "iopub.status.busy": "2023-04-02T16:47:36.266876Z",
     "iopub.execute_input": "2023-04-02T16:47:36.269316Z",
     "iopub.status.idle": "2023-04-02T16:47:36.280991Z",
     "shell.execute_reply.started": "2023-04-02T16:47:36.269276Z",
     "shell.execute_reply": "2023-04-02T16:47:36.279916Z"
    },
    "trusted": true
   },
   "execution_count": 7,
   "outputs": []
  },
  {
   "cell_type": "code",
   "source": [
    "df_stats = calculate_stats(df)\n",
    "df_stats['per_category']"
   ],
   "metadata": {
    "execution": {
     "iopub.status.busy": "2023-04-02T16:47:36.282623Z",
     "iopub.execute_input": "2023-04-02T16:47:36.283033Z",
     "iopub.status.idle": "2023-04-02T16:47:36.658010Z",
     "shell.execute_reply.started": "2023-04-02T16:47:36.282995Z",
     "shell.execute_reply": "2023-04-02T16:47:36.657002Z"
    },
    "trusted": true
   },
   "execution_count": 8,
   "outputs": [
    {
     "execution_count": 8,
     "output_type": "execute_result",
     "data": {
      "text/plain": "                                                       lengths       mean  \\\nHate speech  [7, 2, 4, 13, 16, 4, 14, 33, 8, 15, 7, 37, 5, ...  14.647498   \nNeutral      [19, 5, 54, 17, 7, 6, 8, 19, 14, 20, 42, 14, 1...  14.957189   \nSexism       [5, 3, 2, 16, 22, 22, 11, 7, 15, 48, 31, 22, 1...  15.065966   \nRacist       [53, 56, 35, 31, 11, 6, 18, 35, 23, 13, 8, 7, ...  25.933398   \n\n                 stdev  \nHate speech  15.189034  \nNeutral      11.463369  \nSexism       12.451031  \nRacist       21.852788  ",
      "text/html": "<div>\n<style scoped>\n    .dataframe tbody tr th:only-of-type {\n        vertical-align: middle;\n    }\n\n    .dataframe tbody tr th {\n        vertical-align: top;\n    }\n\n    .dataframe thead th {\n        text-align: right;\n    }\n</style>\n<table border=\"1\" class=\"dataframe\">\n  <thead>\n    <tr style=\"text-align: right;\">\n      <th></th>\n      <th>lengths</th>\n      <th>mean</th>\n      <th>stdev</th>\n    </tr>\n  </thead>\n  <tbody>\n    <tr>\n      <th>Hate speech</th>\n      <td>[7, 2, 4, 13, 16, 4, 14, 33, 8, 15, 7, 37, 5, ...</td>\n      <td>14.647498</td>\n      <td>15.189034</td>\n    </tr>\n    <tr>\n      <th>Neutral</th>\n      <td>[19, 5, 54, 17, 7, 6, 8, 19, 14, 20, 42, 14, 1...</td>\n      <td>14.957189</td>\n      <td>11.463369</td>\n    </tr>\n    <tr>\n      <th>Sexism</th>\n      <td>[5, 3, 2, 16, 22, 22, 11, 7, 15, 48, 31, 22, 1...</td>\n      <td>15.065966</td>\n      <td>12.451031</td>\n    </tr>\n    <tr>\n      <th>Racist</th>\n      <td>[53, 56, 35, 31, 11, 6, 18, 35, 23, 13, 8, 7, ...</td>\n      <td>25.933398</td>\n      <td>21.852788</td>\n    </tr>\n  </tbody>\n</table>\n</div>"
     },
     "metadata": {}
    }
   ]
  },
  {
   "cell_type": "code",
   "source": [
    "display_lengths_histograms(df_stats)"
   ],
   "metadata": {
    "execution": {
     "iopub.status.busy": "2023-04-02T16:47:36.659725Z",
     "iopub.execute_input": "2023-04-02T16:47:36.660430Z",
     "iopub.status.idle": "2023-04-02T16:47:37.622428Z",
     "shell.execute_reply.started": "2023-04-02T16:47:36.660391Z",
     "shell.execute_reply": "2023-04-02T16:47:37.621446Z"
    },
    "trusted": true
   },
   "execution_count": 9,
   "outputs": [
    {
     "output_type": "display_data",
     "data": {
      "text/plain": "<Figure size 1500x800 with 5 Axes>",
      "image/png": "[encoded data removed]"
     },
     "metadata": {}
    }
   ]
  },
  {
   "cell_type": "code",
   "source": [
    "n_texts = len(X_data)\n",
    "print('Texts in dataset: %d' % n_texts)\n",
    "\n",
    "categories = df['lable'].unique()\n",
    "n_categories = len(categories)\n",
    "print('Number of categories: %d' % n_categories)"
   ],
   "metadata": {
    "execution": {
     "iopub.status.busy": "2023-04-02T16:47:37.626284Z",
     "iopub.execute_input": "2023-04-02T16:47:37.626999Z",
     "iopub.status.idle": "2023-04-02T16:47:37.642466Z",
     "shell.execute_reply.started": "2023-04-02T16:47:37.626958Z",
     "shell.execute_reply": "2023-04-02T16:47:37.641201Z"
    },
    "trusted": true
   },
   "execution_count": 10,
   "outputs": [
    {
     "name": "stdout",
     "text": "Texts in dataset: 4659\nNumber of categories: 4\n",
     "output_type": "stream"
    }
   ]
  },
  {
   "cell_type": "code",
   "source": [
    "def roberta_encode(texts, tokenizer):\n",
    "    ct = len(texts)\n",
    "    input_ids = np.ones((ct, MAX_LEN), dtype='int32')\n",
    "    attention_mask = np.zeros((ct, MAX_LEN), dtype='int32')\n",
    "    token_type_ids = np.zeros((ct, MAX_LEN), dtype='int32') # Not used in text classification\n",
    "\n",
    "    for k, text in enumerate(texts):\n",
    "        # Tokenize\n",
    "        tok_text = tokenizer.tokenize(text)\n",
    "        \n",
    "        # Truncate and convert tokens to numerical IDs\n",
    "        enc_text = tokenizer.convert_tokens_to_ids(tok_text[:(MAX_LEN-2)])\n",
    "        \n",
    "        input_length = len(enc_text) + 2\n",
    "        input_length = input_length if input_length < MAX_LEN else MAX_LEN\n",
    "        \n",
    "        # Add tokens [CLS] and [SEP] at the beginning and the end\n",
    "        input_ids[k,:input_length] = np.asarray([0] + enc_text + [2], dtype='int32')\n",
    "        \n",
    "        # Set to 1s in the attention input\n",
    "        attention_mask[k,:input_length] = 1\n",
    "\n",
    "    return {\n",
    "        'input_word_ids': input_ids,\n",
    "        'input_mask': attention_mask,\n",
    "        'input_type_ids': token_type_ids\n",
    "    }"
   ],
   "metadata": {
    "execution": {
     "iopub.status.busy": "2023-04-02T16:47:37.644505Z",
     "iopub.execute_input": "2023-04-02T16:47:37.645241Z",
     "iopub.status.idle": "2023-04-02T16:47:37.659174Z",
     "shell.execute_reply.started": "2023-04-02T16:47:37.645203Z",
     "shell.execute_reply": "2023-04-02T16:47:37.658123Z"
    },
    "trusted": true
   },
   "execution_count": 11,
   "outputs": []
  },
  {
   "cell_type": "code",
   "source": [
    "category_to_id = {}\n",
    "category_to_name = {}\n",
    "\n",
    "for index, c in enumerate(y_data):\n",
    "    if c in category_to_id:\n",
    "        category_id = category_to_id[c]\n",
    "    else:\n",
    "        category_id = len(category_to_id)\n",
    "        category_to_id[c] = category_id\n",
    "        category_to_name[category_id] = c\n",
    "    \n",
    "    y_data[index] = category_id\n",
    "\n",
    "category_to_name"
   ],
   "metadata": {
    "execution": {
     "iopub.status.busy": "2023-04-02T16:47:37.661581Z",
     "iopub.execute_input": "2023-04-02T16:47:37.662915Z",
     "iopub.status.idle": "2023-04-02T16:47:37.690002Z",
     "shell.execute_reply.started": "2023-04-02T16:47:37.662878Z",
     "shell.execute_reply": "2023-04-02T16:47:37.689119Z"
    },
    "trusted": true
   },
   "execution_count": 12,
   "outputs": [
    {
     "execution_count": 12,
     "output_type": "execute_result",
     "data": {
      "text/plain": "{0: 'Hate speech', 1: 'Neutral', 2: 'Sexism', 3: 'Racist'}"
     },
     "metadata": {}
    }
   ]
  },
  {
   "cell_type": "code",
   "source": [
    "X_train, X_test, y_train, y_test = train_test_split(X_data, y_data, test_size=0.3, random_state=777)"
   ],
   "metadata": {
    "execution": {
     "iopub.status.busy": "2023-04-02T16:47:37.691438Z",
     "iopub.execute_input": "2023-04-02T16:47:37.692106Z",
     "iopub.status.idle": "2023-04-02T16:47:37.699659Z",
     "shell.execute_reply.started": "2023-04-02T16:47:37.692050Z",
     "shell.execute_reply": "2023-04-02T16:47:37.698497Z"
    },
    "trusted": true
   },
   "execution_count": 13,
   "outputs": []
  },
  {
   "cell_type": "code",
   "source": [
    "tokenizer = RobertaTokenizer.from_pretrained(MODEL_NAME)\n"
   ],
   "metadata": {
    "execution": {
     "iopub.status.busy": "2023-04-02T16:47:37.701419Z",
     "iopub.execute_input": "2023-04-02T16:47:37.702417Z",
     "iopub.status.idle": "2023-04-02T16:47:47.450996Z",
     "shell.execute_reply.started": "2023-04-02T16:47:37.702379Z",
     "shell.execute_reply": "2023-04-02T16:47:47.449957Z"
    },
    "trusted": true
   },
   "execution_count": 14,
   "outputs": [
    {
     "output_type": "display_data",
     "data": {
      "text/plain": "Downloading (…)olve/main/vocab.json:   0%|          | 0.00/899k [00:00<?, ?B/s]",
      "application/vnd.jupyter.widget-view+json": {
       "version_major": 2,
       "version_minor": 0,
       "model_id": "f702862efc4045fc97f13fa8d1774b6e"
      }
     },
     "metadata": {}
    },
    {
     "output_type": "display_data",
     "data": {
      "text/plain": "Downloading (…)olve/main/merges.txt:   0%|          | 0.00/456k [00:00<?, ?B/s]",
      "application/vnd.jupyter.widget-view+json": {
       "version_major": 2,
       "version_minor": 0,
       "model_id": "44e4926f33934a92b2b51ae28aa73872"
      }
     },
     "metadata": {}
    },
    {
     "output_type": "display_data",
     "data": {
      "text/plain": "Downloading (…)lve/main/config.json:   0%|          | 0.00/481 [00:00<?, ?B/s]",
      "application/vnd.jupyter.widget-view+json": {
       "version_major": 2,
       "version_minor": 0,
       "model_id": "81a70a6b43664cbb80232e79e873d43c"
      }
     },
     "metadata": {}
    }
   ]
  },
  {
   "cell_type": "code",
   "source": [
    "X_train = roberta_encode(X_train, tokenizer)\n",
    "X_test = roberta_encode(X_test, tokenizer)\n",
    "\n",
    "y_train = np.asarray(y_train, dtype='int32')\n",
    "y_test = np.asarray(y_test, dtype='int32')"
   ],
   "metadata": {
    "execution": {
     "iopub.status.busy": "2023-04-02T16:47:47.452260Z",
     "iopub.execute_input": "2023-04-02T16:47:47.452635Z",
     "iopub.status.idle": "2023-04-02T16:47:49.924181Z",
     "shell.execute_reply.started": "2023-04-02T16:47:47.452598Z",
     "shell.execute_reply": "2023-04-02T16:47:49.923181Z"
    },
    "trusted": true
   },
   "execution_count": 15,
   "outputs": []
  },
  {
   "cell_type": "code",
   "source": [
    "def build_model(n_categories):\n",
    "    with strategy.scope():\n",
    "        input_word_ids = tf.keras.Input(shape=(MAX_LEN,), dtype=tf.int32, name='input_word_ids')\n",
    "        input_mask = tf.keras.Input(shape=(MAX_LEN,), dtype=tf.int32, name='input_mask')\n",
    "        input_type_ids = tf.keras.Input(shape=(MAX_LEN,), dtype=tf.int32, name='input_type_ids')\n",
    "\n",
    "        # Import RoBERTa model from HuggingFace\n",
    "        roberta_model = TFRobertaModel.from_pretrained(MODEL_NAME)\n",
    "        x = roberta_model(input_word_ids, attention_mask=input_mask, token_type_ids=input_type_ids)\n",
    "\n",
    "        # Huggingface transformers have multiple outputs, embeddings are the first one,\n",
    "        # so let's slice out the first position\n",
    "        x = x[0]\n",
    "\n",
    "        x = tf.keras.layers.Dropout(0.1)(x)\n",
    "        x = tf.keras.layers.Flatten()(x)\n",
    "        x = tf.keras.layers.Dense(256, activation='relu')(x)\n",
    "        x = tf.keras.layers.Dense(n_categories, activation='softmax')(x)\n",
    "\n",
    "        model = tf.keras.Model(inputs=[input_word_ids, input_mask, input_type_ids], outputs=x)\n",
    "        model.compile(\n",
    "            optimizer=tf.keras.optimizers.Adam(lr=1e-5),\n",
    "            loss='sparse_categorical_crossentropy',\n",
    "            metrics=['accuracy'])\n",
    "\n",
    "        return model"
   ],
   "metadata": {
    "execution": {
     "iopub.status.busy": "2023-04-02T16:47:49.925845Z",
     "iopub.execute_input": "2023-04-02T16:47:49.926243Z",
     "iopub.status.idle": "2023-04-02T16:47:49.937598Z",
     "shell.execute_reply.started": "2023-04-02T16:47:49.926204Z",
     "shell.execute_reply": "2023-04-02T16:47:49.935038Z"
    },
    "trusted": true
   },
   "execution_count": 16,
   "outputs": []
  },
  {
   "cell_type": "code",
   "source": [
    "with strategy.scope():\n",
    "    model = build_model(n_categories)\n",
    "    model.summary()"
   ],
   "metadata": {
    "execution": {
     "iopub.status.busy": "2023-04-02T16:47:49.938900Z",
     "iopub.execute_input": "2023-04-02T16:47:49.939859Z",
     "iopub.status.idle": "2023-04-02T16:48:26.692854Z",
     "shell.execute_reply.started": "2023-04-02T16:47:49.939817Z",
     "shell.execute_reply": "2023-04-02T16:48:26.691919Z"
    },
    "trusted": true
   },
   "execution_count": 17,
   "outputs": [
    {
     "output_type": "display_data",
     "data": {
      "text/plain": "Downloading tf_model.h5:   0%|          | 0.00/657M [00:00<?, ?B/s]",
      "application/vnd.jupyter.widget-view+json": {
       "version_major": 2,
       "version_minor": 0,
       "model_id": "1fbd6cfefaaf42f09588d87a87fa9989"
      }
     },
     "metadata": {}
    },
    {
     "name": "stderr",
     "text": "Some layers from the model checkpoint at roberta-base were not used when initializing TFRobertaModel: ['lm_head']\n- This IS expected if you are initializing TFRobertaModel from the checkpoint of a model trained on another task or with another architecture (e.g. initializing a BertForSequenceClassification model from a BertForPreTraining model).\n- This IS NOT expected if you are initializing TFRobertaModel from the checkpoint of a model that you expect to be exactly identical (initializing a BertForSequenceClassification model from a BertForSequenceClassification model).\nAll the layers of TFRobertaModel were initialized from the model checkpoint at roberta-base.\nIf your task is similar to the task the model of the checkpoint was trained on, you can already use TFRobertaModel for predictions without further training.\n",
     "output_type": "stream"
    },
    {
     "name": "stdout",
     "text": "Model: \"model\"\n__________________________________________________________________________________________________\n Layer (type)                   Output Shape         Param #     Connected to                     \n==================================================================================================\n input_word_ids (InputLayer)    [(None, 256)]        0           []                               \n                                                                                                  \n input_mask (InputLayer)        [(None, 256)]        0           []                               \n                                                                                                  \n input_type_ids (InputLayer)    [(None, 256)]        0           []                               \n                                                                                                  \n tf_roberta_model (TFRobertaMod  TFBaseModelOutputWi  124645632  ['input_word_ids[0][0]',         \n el)                            thPoolingAndCrossAt               'input_mask[0][0]',             \n                                tentions(last_hidde               'input_type_ids[0][0]']         \n                                n_state=(None, 256,                                               \n                                 768),                                                            \n                                 pooler_output=(Non                                               \n                                e, 768),                                                          \n                                 past_key_values=No                                               \n                                ne, hidden_states=N                                               \n                                one, attentions=Non                                               \n                                e, cross_attentions                                               \n                                =None)                                                            \n                                                                                                  \n dropout_37 (Dropout)           (None, 256, 768)     0           ['tf_roberta_model[0][0]']       \n                                                                                                  \n flatten (Flatten)              (None, 196608)       0           ['dropout_37[0][0]']             \n                                                                                                  \n dense (Dense)                  (None, 256)          50331904    ['flatten[0][0]']                \n                                                                                                  \n dense_1 (Dense)                (None, 4)            1028        ['dense[0][0]']                  \n                                                                                                  \n==================================================================================================\nTotal params: 174,978,564\nTrainable params: 174,978,564\nNon-trainable params: 0\n__________________________________________________________________________________________________\n",
     "output_type": "stream"
    }
   ]
  },
  {
   "cell_type": "code",
   "source": [
    "with strategy.scope():\n",
    "    print('Training...')\n",
    "    history = model.fit(X_train,\n",
    "                        y_train,\n",
    "                        epochs=EPOCHS,\n",
    "                        batch_size=BATCH_SIZE,\n",
    "                        verbose=1,\n",
    "                        validation_data=(X_test, y_test))"
   ],
   "metadata": {
    "execution": {
     "iopub.status.busy": "2023-04-02T16:48:26.694161Z",
     "iopub.execute_input": "2023-04-02T16:48:26.694470Z",
     "iopub.status.idle": "2023-04-02T16:56:13.626731Z",
     "shell.execute_reply.started": "2023-04-02T16:48:26.694439Z",
     "shell.execute_reply": "2023-04-02T16:56:13.625594Z"
    },
    "trusted": true
   },
   "execution_count": 18,
   "outputs": [
    {
     "name": "stdout",
     "text": "Training...\nEpoch 1/3\n408/408 [==============================] - 180s 340ms/step - loss: 4.1640 - accuracy: 0.2671 - val_loss: 1.3852 - val_accuracy: 0.2740\nEpoch 2/3\n408/408 [==============================] - 136s 334ms/step - loss: 1.3824 - accuracy: 0.2932 - val_loss: 1.3839 - val_accuracy: 0.2740\nEpoch 3/3\n408/408 [==============================] - 134s 329ms/step - loss: 1.3799 - accuracy: 0.2932 - val_loss: 1.3840 - val_accuracy: 0.2740\n",
     "output_type": "stream"
    }
   ]
  }
 ]
}
