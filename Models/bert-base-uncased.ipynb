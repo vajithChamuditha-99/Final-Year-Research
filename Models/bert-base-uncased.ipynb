{
 "metadata": {
  "kernelspec": {
   "language": "python",
   "display_name": "Python 3",
   "name": "python3"
  },
  "language_info": {
   "name": "python",
   "version": "3.7.12",
   "mimetype": "text/x-python",
   "codemirror_mode": {
    "name": "ipython",
    "version": 3
   },
   "pygments_lexer": "ipython3",
   "nbconvert_exporter": "python",
   "file_extension": ".py"
  }
 },
 "nbformat_minor": 4,
 "nbformat": 4,
 "cells": [
  {
   "cell_type": "code",
   "source": [
    "import torch\n",
    "from tqdm.notebook import tqdm\n",
    "\n",
    "import numpy as np\n",
    "import pandas as pd\n",
    "\n",
    "import matplotlib.pyplot as plt\n",
    "import seaborn as sns\n",
    "import codecs\n",
    "import re\n",
    "\n",
    "from transformers import BertTokenizer\n",
    "from torch.utils.data import TensorDataset\n",
    "\n",
    "from transformers import BertForSequenceClassification"
   ],
   "metadata": {
    "execution": {
     "iopub.status.busy": "2023-04-03T02:03:11.818957Z",
     "iopub.execute_input": "2023-04-03T02:03:11.819996Z",
     "iopub.status.idle": "2023-04-03T02:03:11.827066Z",
     "shell.execute_reply.started": "2023-04-03T02:03:11.819955Z",
     "shell.execute_reply": "2023-04-03T02:03:11.825916Z"
    },
    "trusted": true
   },
   "execution_count": 107,
   "outputs": []
  },
  {
   "cell_type": "code",
   "source": [
    "df = pd.read_csv('/kaggle/input/cbd-dataset/cleaned_dataset.csv')\n",
    "df.head()"
   ],
   "metadata": {
    "execution": {
     "iopub.status.busy": "2023-04-03T02:03:11.846779Z",
     "iopub.execute_input": "2023-04-03T02:03:11.847667Z",
     "iopub.status.idle": "2023-04-03T02:03:11.907559Z",
     "shell.execute_reply.started": "2023-04-03T02:03:11.847624Z",
     "shell.execute_reply": "2023-04-03T02:03:11.906575Z"
    },
    "trusted": true
   },
   "execution_count": 108,
   "outputs": [
    {
     "execution_count": 108,
     "output_type": "execute_result",
     "data": {
      "text/plain": "   Unnamed: 0  id                                            comment  \\\n0           0   1  @USER @USER අනේ බන් ප්ලෙන්ටියක් බොන්න සල්ලි නෑ...   \n1           1   2  \"RT @randeera: කවුරු මොනා කිවුවත් පොඩ්ඩක් කියල...   \n2           2   3                                    කාලකන්නි  බල්ලො   \n3           3   4                               පොලූ කනකොට ඔහොම තමයි   \n4           4   5  පොට්ට වේසි- යුද්දෙන් 3/4 ක් ඉවර කලේ මම (චන්ද්‍...   \n\n         lable                                       Text_cleaned  \n0  Hate speech           අනේ බන් ප්ලෙන්ටියක් බොන්න සල්ලි නෑ හුත්ත  \n1      Neutral  කවුරු මොනා කිවුවත් පොඩ්ඩක් කියලා බලපන් පල්ලියක...  \n2  Hate speech                                    කාලකන්නි  බල්ලො  \n3  Hate speech                               පොලූ කනකොට ඔහොම තමයි  \n4  Hate speech  පොට්ට වේසි යුද්දෙන්  ක් ඉවර කලේ මම චන්ද්‍රිකා ...  ",
      "text/html": "<div>\n<style scoped>\n    .dataframe tbody tr th:only-of-type {\n        vertical-align: middle;\n    }\n\n    .dataframe tbody tr th {\n        vertical-align: top;\n    }\n\n    .dataframe thead th {\n        text-align: right;\n    }\n</style>\n<table border=\"1\" class=\"dataframe\">\n  <thead>\n    <tr style=\"text-align: right;\">\n      <th></th>\n      <th>Unnamed: 0</th>\n      <th>id</th>\n      <th>comment</th>\n      <th>lable</th>\n      <th>Text_cleaned</th>\n    </tr>\n  </thead>\n  <tbody>\n    <tr>\n      <th>0</th>\n      <td>0</td>\n      <td>1</td>\n      <td>@USER @USER අනේ බන් ප්ලෙන්ටියක් බොන්න සල්ලි නෑ...</td>\n      <td>Hate speech</td>\n      <td>අනේ බන් ප්ලෙන්ටියක් බොන්න සල්ලි නෑ හුත්ත</td>\n    </tr>\n    <tr>\n      <th>1</th>\n      <td>1</td>\n      <td>2</td>\n      <td>\"RT @randeera: කවුරු මොනා කිවුවත් පොඩ්ඩක් කියල...</td>\n      <td>Neutral</td>\n      <td>කවුරු මොනා කිවුවත් පොඩ්ඩක් කියලා බලපන් පල්ලියක...</td>\n    </tr>\n    <tr>\n      <th>2</th>\n      <td>2</td>\n      <td>3</td>\n      <td>කාලකන්නි  බල්ලො</td>\n      <td>Hate speech</td>\n      <td>කාලකන්නි  බල්ලො</td>\n    </tr>\n    <tr>\n      <th>3</th>\n      <td>3</td>\n      <td>4</td>\n      <td>පොලූ කනකොට ඔහොම තමයි</td>\n      <td>Hate speech</td>\n      <td>පොලූ කනකොට ඔහොම තමයි</td>\n    </tr>\n    <tr>\n      <th>4</th>\n      <td>4</td>\n      <td>5</td>\n      <td>පොට්ට වේසි- යුද්දෙන් 3/4 ක් ඉවර කලේ මම (චන්ද්‍...</td>\n      <td>Hate speech</td>\n      <td>පොට්ට වේසි යුද්දෙන්  ක් ඉවර කලේ මම චන්ද්‍රිකා ...</td>\n    </tr>\n  </tbody>\n</table>\n</div>"
     },
     "metadata": {}
    }
   ]
  },
  {
   "cell_type": "code",
   "source": [
    "category_count = df['lable'].value_counts()\n",
    "\n",
    "categories = category_count.index\n",
    "\n",
    "categories"
   ],
   "metadata": {
    "execution": {
     "iopub.status.busy": "2023-04-03T02:03:11.910216Z",
     "iopub.execute_input": "2023-04-03T02:03:11.911332Z",
     "iopub.status.idle": "2023-04-03T02:03:11.921172Z",
     "shell.execute_reply.started": "2023-04-03T02:03:11.911289Z",
     "shell.execute_reply": "2023-04-03T02:03:11.919932Z"
    },
    "trusted": true
   },
   "execution_count": 109,
   "outputs": [
    {
     "execution_count": 109,
     "output_type": "execute_result",
     "data": {
      "text/plain": "Index(['Hate speech', 'Neutral', 'Sexism', 'Racist'], dtype='object')"
     },
     "metadata": {}
    }
   ]
  },
  {
   "cell_type": "code",
   "source": [
    "# categories = df[['lable']].values.reshape(-1)\n",
    "\n",
    "# counter_categories = Counter(categories)\n",
    "# category_names = counter_categories.keys()\n",
    "# category_values = counter_categories.values()\n",
    "\n",
    "# y_pos = np.arange(len(category_names))\n",
    "\n",
    "# plt.figure(1, figsize=(10, 5))\n",
    "# plt.bar(y_pos, category_values, align='center', alpha=0.5)\n",
    "# plt.xticks(y_pos, category_names)\n",
    "# plt.ylabel('Number of texts')\n",
    "# plt.title('Distribution of texts per category')\n",
    "# plt.gca().yaxis.grid(True)\n",
    "# plt.show()\n",
    "\n",
    "# print(counter_categories)"
   ],
   "metadata": {
    "execution": {
     "iopub.status.busy": "2023-04-03T02:03:11.922997Z",
     "iopub.execute_input": "2023-04-03T02:03:11.923618Z",
     "iopub.status.idle": "2023-04-03T02:03:11.929385Z",
     "shell.execute_reply.started": "2023-04-03T02:03:11.923465Z",
     "shell.execute_reply": "2023-04-03T02:03:11.928263Z"
    },
    "trusted": true
   },
   "execution_count": 110,
   "outputs": []
  },
  {
   "cell_type": "code",
   "source": [
    "# def calculate_stats(df, split_char=' '):\n",
    "#     categories = df['lable'].unique()\n",
    "    \n",
    "#     all_lengths = []\n",
    "#     per_category = {\n",
    "#         'lengths': {c:[] for c in categories},\n",
    "#         'mean': {c:0 for c in categories},\n",
    "#         'stdev': {c:0 for c in categories}\n",
    "#     }\n",
    "\n",
    "#     for index, row in df.iterrows():\n",
    "#         text = row['Text_cleaned']\n",
    "#         text = re.sub(r\"\\s+\", ' ', text) # Normalize\n",
    "#         text = text.split(split_char)\n",
    "#         l = len(text)\n",
    "        \n",
    "#         category = row['lable']\n",
    "        \n",
    "#         all_lengths.append(l)\n",
    "#         per_category['lengths'][category].append(l)\n",
    "    \n",
    "#     for c in categories:\n",
    "#         per_category['mean'][c] = statistics.mean(per_category['lengths'][c])\n",
    "#         per_category['stdev'][c] = statistics.stdev(per_category['lengths'][c])\n",
    "    \n",
    "#     global_stats = {\n",
    "#         'mean': statistics.mean(all_lengths),\n",
    "#         'stdev': statistics.stdev(all_lengths),\n",
    "#         'lengths': all_lengths\n",
    "#     }\n",
    "    \n",
    "#     return {\n",
    "#         'global': global_stats,\n",
    "#         'per_category': pd.DataFrame(per_category)\n",
    "#     }\n",
    "\n",
    "\n",
    "# def display_lengths_histograms(df_stats, n_cols=3):\n",
    "#     categories = df['lable'].unique()\n",
    "#     n_rows = math.ceil(len(categories) / n_cols)\n",
    "    \n",
    "#     plt.figure(figsize=(15, 8))\n",
    "#     plt.suptitle('Distribution of lengths')\n",
    "    \n",
    "#     # Subplot of all lengths\n",
    "#     plt.subplot(n_rows, n_cols, 1)\n",
    "#     plt.title('All categories')\n",
    "#     lengths = df_stats['global']['lengths']\n",
    "#     plt.hist(lengths, color='r')\n",
    "\n",
    "#     # Subplot of each category\n",
    "#     index_subplot = 2\n",
    "#     for c in categories:\n",
    "#         plt.subplot(n_rows, n_cols, index_subplot)\n",
    "#         plt.title('Category: %s' % c)\n",
    "        \n",
    "#         lengths = df_stats['per_category']['lengths'][c]\n",
    "#         plt.hist(lengths, color='b')\n",
    "\n",
    "#         index_subplot += 1\n",
    "\n",
    "#     plt.show()"
   ],
   "metadata": {
    "execution": {
     "iopub.status.busy": "2023-04-03T02:03:11.934219Z",
     "iopub.execute_input": "2023-04-03T02:03:11.936570Z",
     "iopub.status.idle": "2023-04-03T02:03:11.942571Z",
     "shell.execute_reply.started": "2023-04-03T02:03:11.936536Z",
     "shell.execute_reply": "2023-04-03T02:03:11.941034Z"
    },
    "trusted": true
   },
   "execution_count": 111,
   "outputs": []
  },
  {
   "cell_type": "code",
   "source": [
    "# df_stats = calculate_stats(df)\n",
    "# df_stats['per_category']"
   ],
   "metadata": {
    "execution": {
     "iopub.status.busy": "2023-04-03T02:03:11.957915Z",
     "iopub.execute_input": "2023-04-03T02:03:11.958203Z",
     "iopub.status.idle": "2023-04-03T02:03:11.962793Z",
     "shell.execute_reply.started": "2023-04-03T02:03:11.958177Z",
     "shell.execute_reply": "2023-04-03T02:03:11.961352Z"
    },
    "trusted": true
   },
   "execution_count": 112,
   "outputs": []
  },
  {
   "cell_type": "code",
   "source": [
    "# display_lengths_histograms(df_stats)"
   ],
   "metadata": {
    "execution": {
     "iopub.status.busy": "2023-04-03T02:03:11.968161Z",
     "iopub.execute_input": "2023-04-03T02:03:11.968692Z",
     "iopub.status.idle": "2023-04-03T02:03:11.973304Z",
     "shell.execute_reply.started": "2023-04-03T02:03:11.968664Z",
     "shell.execute_reply": "2023-04-03T02:03:11.972062Z"
    },
    "trusted": true
   },
   "execution_count": 113,
   "outputs": []
  },
  {
   "cell_type": "code",
   "source": [
    "# n_texts = len(X_data)\n",
    "# print('Texts in dataset: %d' % n_texts)\n",
    "\n",
    "# categories = df['lable'].unique()\n",
    "# n_categories = len(categories)\n",
    "# print('Number of categories: %d' % n_categories)"
   ],
   "metadata": {
    "execution": {
     "iopub.status.busy": "2023-04-03T02:03:11.977676Z",
     "iopub.execute_input": "2023-04-03T02:03:11.980025Z",
     "iopub.status.idle": "2023-04-03T02:03:11.984442Z",
     "shell.execute_reply.started": "2023-04-03T02:03:11.979994Z",
     "shell.execute_reply": "2023-04-03T02:03:11.983270Z"
    },
    "trusted": true
   },
   "execution_count": 114,
   "outputs": []
  },
  {
   "cell_type": "code",
   "source": [
    "possible_labels = df.lable.unique()\n",
    "\n",
    "label_dict = {}\n",
    "for index, possible_label in enumerate(possible_labels):\n",
    "    label_dict[possible_label] = index\n",
    "label_dict"
   ],
   "metadata": {
    "execution": {
     "iopub.status.busy": "2023-04-03T02:03:11.997964Z",
     "iopub.execute_input": "2023-04-03T02:03:11.998655Z",
     "iopub.status.idle": "2023-04-03T02:03:12.007360Z",
     "shell.execute_reply.started": "2023-04-03T02:03:11.998626Z",
     "shell.execute_reply": "2023-04-03T02:03:12.006152Z"
    },
    "trusted": true
   },
   "execution_count": 115,
   "outputs": [
    {
     "execution_count": 115,
     "output_type": "execute_result",
     "data": {
      "text/plain": "{'Hate speech': 0, 'Neutral': 1, 'Sexism': 2, 'Racist': 3}"
     },
     "metadata": {}
    }
   ]
  },
  {
   "cell_type": "code",
   "source": [
    "df['value_lable'] = df.lable.replace(label_dict)"
   ],
   "metadata": {
    "execution": {
     "iopub.status.busy": "2023-04-03T02:03:12.009604Z",
     "iopub.execute_input": "2023-04-03T02:03:12.010821Z",
     "iopub.status.idle": "2023-04-03T02:03:12.021152Z",
     "shell.execute_reply.started": "2023-04-03T02:03:12.010764Z",
     "shell.execute_reply": "2023-04-03T02:03:12.020001Z"
    },
    "trusted": true
   },
   "execution_count": 116,
   "outputs": []
  },
  {
   "cell_type": "code",
   "source": [
    "from sklearn.model_selection import train_test_split"
   ],
   "metadata": {
    "execution": {
     "iopub.status.busy": "2023-04-03T02:03:12.023692Z",
     "iopub.execute_input": "2023-04-03T02:03:12.024140Z",
     "iopub.status.idle": "2023-04-03T02:03:12.029924Z",
     "shell.execute_reply.started": "2023-04-03T02:03:12.024080Z",
     "shell.execute_reply": "2023-04-03T02:03:12.028711Z"
    },
    "trusted": true
   },
   "execution_count": 117,
   "outputs": []
  },
  {
   "cell_type": "code",
   "source": [
    "X_train, X_val, y_train, y_val = train_test_split(df.index.values, \n",
    "                                                  df.value_lable.values, \n",
    "                                                  test_size=0.15, \n",
    "                                                  random_state=42, \n",
    "                                                  stratify=df.value_lable.values)\n",
    "\n",
    "df['data_type'] = ['not_set']*df.shape[0]\n",
    "\n",
    "df.loc[X_train, 'data_type'] = 'train'\n",
    "df.loc[X_val, 'data_type'] = 'val'\n",
    "\n",
    "df.groupby(['lable', 'value_lable', 'data_type']).count()\n"
   ],
   "metadata": {
    "execution": {
     "iopub.status.busy": "2023-04-03T02:03:12.035258Z",
     "iopub.execute_input": "2023-04-03T02:03:12.035606Z",
     "iopub.status.idle": "2023-04-03T02:03:12.062283Z",
     "shell.execute_reply.started": "2023-04-03T02:03:12.035576Z",
     "shell.execute_reply": "2023-04-03T02:03:12.060906Z"
    },
    "trusted": true
   },
   "execution_count": 118,
   "outputs": [
    {
     "execution_count": 118,
     "output_type": "execute_result",
     "data": {
      "text/plain": "                                   Unnamed: 0    id  comment  Text_cleaned\nlable       value_lable data_type                                         \nHate speech 0           train            1138  1138     1138          1138\n                        val               201   201      201           201\nNeutral     1           train            1052  1052     1052          1052\n                        val               186   186      186           186\nRacist      3           train             881   881      881           881\n                        val               155   155      155           155\nSexism      2           train             889   889      889           889\n                        val               157   157      157           157",
      "text/html": "<div>\n<style scoped>\n    .dataframe tbody tr th:only-of-type {\n        vertical-align: middle;\n    }\n\n    .dataframe tbody tr th {\n        vertical-align: top;\n    }\n\n    .dataframe thead th {\n        text-align: right;\n    }\n</style>\n<table border=\"1\" class=\"dataframe\">\n  <thead>\n    <tr style=\"text-align: right;\">\n      <th></th>\n      <th></th>\n      <th></th>\n      <th>Unnamed: 0</th>\n      <th>id</th>\n      <th>comment</th>\n      <th>Text_cleaned</th>\n    </tr>\n    <tr>\n      <th>lable</th>\n      <th>value_lable</th>\n      <th>data_type</th>\n      <th></th>\n      <th></th>\n      <th></th>\n      <th></th>\n    </tr>\n  </thead>\n  <tbody>\n    <tr>\n      <th rowspan=\"2\" valign=\"top\">Hate speech</th>\n      <th rowspan=\"2\" valign=\"top\">0</th>\n      <th>train</th>\n      <td>1138</td>\n      <td>1138</td>\n      <td>1138</td>\n      <td>1138</td>\n    </tr>\n    <tr>\n      <th>val</th>\n      <td>201</td>\n      <td>201</td>\n      <td>201</td>\n      <td>201</td>\n    </tr>\n    <tr>\n      <th rowspan=\"2\" valign=\"top\">Neutral</th>\n      <th rowspan=\"2\" valign=\"top\">1</th>\n      <th>train</th>\n      <td>1052</td>\n      <td>1052</td>\n      <td>1052</td>\n      <td>1052</td>\n    </tr>\n    <tr>\n      <th>val</th>\n      <td>186</td>\n      <td>186</td>\n      <td>186</td>\n      <td>186</td>\n    </tr>\n    <tr>\n      <th rowspan=\"2\" valign=\"top\">Racist</th>\n      <th rowspan=\"2\" valign=\"top\">3</th>\n      <th>train</th>\n      <td>881</td>\n      <td>881</td>\n      <td>881</td>\n      <td>881</td>\n    </tr>\n    <tr>\n      <th>val</th>\n      <td>155</td>\n      <td>155</td>\n      <td>155</td>\n      <td>155</td>\n    </tr>\n    <tr>\n      <th rowspan=\"2\" valign=\"top\">Sexism</th>\n      <th rowspan=\"2\" valign=\"top\">2</th>\n      <th>train</th>\n      <td>889</td>\n      <td>889</td>\n      <td>889</td>\n      <td>889</td>\n    </tr>\n    <tr>\n      <th>val</th>\n      <td>157</td>\n      <td>157</td>\n      <td>157</td>\n      <td>157</td>\n    </tr>\n  </tbody>\n</table>\n</div>"
     },
     "metadata": {}
    }
   ]
  },
  {
   "cell_type": "code",
   "source": [
    "tokenizer = BertTokenizer.from_pretrained('bert-base-uncased', \n",
    "                                          do_lower_case=True)\n",
    "                                          \n",
    "encoded_data_train = tokenizer.batch_encode_plus(\n",
    "    df[df.data_type=='train'].Text_cleaned.values, \n",
    "    add_special_tokens=True, \n",
    "    return_attention_mask=True, \n",
    "    pad_to_max_length=True, \n",
    "    max_length=256, \n",
    "    return_tensors='pt'\n",
    ")\n",
    "\n",
    "encoded_data_val = tokenizer.batch_encode_plus(\n",
    "    df[df.data_type=='val'].Text_cleaned.values, \n",
    "    add_special_tokens=True, \n",
    "    return_attention_mask=True, \n",
    "    pad_to_max_length=True, \n",
    "    max_length=256, \n",
    "    return_tensors='pt'\n",
    ")"
   ],
   "metadata": {
    "execution": {
     "iopub.status.busy": "2023-04-03T02:03:12.065542Z",
     "iopub.execute_input": "2023-04-03T02:03:12.066061Z",
     "iopub.status.idle": "2023-04-03T02:03:15.478658Z",
     "shell.execute_reply.started": "2023-04-03T02:03:12.066033Z",
     "shell.execute_reply": "2023-04-03T02:03:15.477518Z"
    },
    "trusted": true
   },
   "execution_count": 119,
   "outputs": [
    {
     "name": "stderr",
     "text": "Truncation was not explicitly activated but `max_length` is provided a specific value, please use `truncation=True` to explicitly truncate examples to max length. Defaulting to 'longest_first' truncation strategy. If you encode pairs of sequences (GLUE-style) with the tokenizer you can select this strategy more precisely by providing a specific strategy to `truncation`.\n/opt/conda/lib/python3.7/site-packages/transformers/tokenization_utils_base.py:2352: FutureWarning: The `pad_to_max_length` argument is deprecated and will be removed in a future version, use `padding=True` or `padding='longest'` to pad to the longest sequence in the batch, or use `padding='max_length'` to pad to a max length. In this case, you can give a specific length with `max_length` (e.g. `max_length=45`) or leave max_length to None to pad to the maximal input size of the model (e.g. 512 for Bert).\n  FutureWarning,\n",
     "output_type": "stream"
    }
   ]
  },
  {
   "cell_type": "code",
   "source": [
    "input_ids_train = encoded_data_train['input_ids']\n",
    "attention_masks_train = encoded_data_train['attention_mask']\n",
    "labels_train = torch.tensor(df[df.data_type=='train'].value_lable.values)\n",
    "\n",
    "input_ids_val = encoded_data_val['input_ids']\n",
    "attention_masks_val = encoded_data_val['attention_mask']\n",
    "labels_val = torch.tensor(df[df.data_type=='val'].value_lable.values)\n",
    "\n",
    "dataset_train = TensorDataset(input_ids_train, attention_masks_train, labels_train)\n",
    "dataset_val = TensorDataset(input_ids_val, attention_masks_val, labels_val)"
   ],
   "metadata": {
    "execution": {
     "iopub.status.busy": "2023-04-03T02:03:15.480696Z",
     "iopub.execute_input": "2023-04-03T02:03:15.481152Z",
     "iopub.status.idle": "2023-04-03T02:03:15.493419Z",
     "shell.execute_reply.started": "2023-04-03T02:03:15.481107Z",
     "shell.execute_reply": "2023-04-03T02:03:15.492111Z"
    },
    "trusted": true
   },
   "execution_count": 120,
   "outputs": []
  },
  {
   "cell_type": "code",
   "source": [
    "model = BertForSequenceClassification.from_pretrained(\"bert-base-uncased\",\n",
    "                                                      num_labels=len(label_dict),\n",
    "                                                      output_attentions=False,\n",
    "                                                      output_hidden_states=False)"
   ],
   "metadata": {
    "execution": {
     "iopub.status.busy": "2023-04-03T02:03:15.497057Z",
     "iopub.execute_input": "2023-04-03T02:03:15.497550Z",
     "iopub.status.idle": "2023-04-03T02:03:16.963150Z",
     "shell.execute_reply.started": "2023-04-03T02:03:15.497505Z",
     "shell.execute_reply": "2023-04-03T02:03:16.961978Z"
    },
    "trusted": true
   },
   "execution_count": 121,
   "outputs": [
    {
     "name": "stderr",
     "text": "Some weights of the model checkpoint at bert-base-uncased were not used when initializing BertForSequenceClassification: ['cls.predictions.transform.LayerNorm.bias', 'cls.predictions.bias', 'cls.predictions.transform.LayerNorm.weight', 'cls.seq_relationship.weight', 'cls.predictions.transform.dense.bias', 'cls.predictions.transform.dense.weight', 'cls.predictions.decoder.weight', 'cls.seq_relationship.bias']\n- This IS expected if you are initializing BertForSequenceClassification from the checkpoint of a model trained on another task or with another architecture (e.g. initializing a BertForSequenceClassification model from a BertForPreTraining model).\n- This IS NOT expected if you are initializing BertForSequenceClassification from the checkpoint of a model that you expect to be exactly identical (initializing a BertForSequenceClassification model from a BertForSequenceClassification model).\nSome weights of BertForSequenceClassification were not initialized from the model checkpoint at bert-base-uncased and are newly initialized: ['classifier.bias', 'classifier.weight']\nYou should probably TRAIN this model on a down-stream task to be able to use it for predictions and inference.\n",
     "output_type": "stream"
    }
   ]
  },
  {
   "cell_type": "code",
   "source": [
    "from torch.utils.data import DataLoader, RandomSampler, SequentialSampler\n",
    "\n",
    "batch_size = 16\n",
    "\n",
    "dataloader_train = DataLoader(dataset_train, \n",
    "                              sampler=RandomSampler(dataset_train), \n",
    "                              batch_size=batch_size)\n",
    "\n",
    "dataloader_validation = DataLoader(dataset_val, \n",
    "                                   sampler=SequentialSampler(dataset_val), \n",
    "                                   batch_size=batch_size)"
   ],
   "metadata": {
    "execution": {
     "iopub.status.busy": "2023-04-03T02:03:16.964970Z",
     "iopub.execute_input": "2023-04-03T02:03:16.965588Z",
     "iopub.status.idle": "2023-04-03T02:03:16.972039Z",
     "shell.execute_reply.started": "2023-04-03T02:03:16.965525Z",
     "shell.execute_reply": "2023-04-03T02:03:16.970907Z"
    },
    "trusted": true
   },
   "execution_count": 122,
   "outputs": []
  },
  {
   "cell_type": "code",
   "source": [
    "from transformers import AdamW, get_linear_schedule_with_warmup\n",
    "\n",
    "optimizer = AdamW(model.parameters(),\n",
    "                  lr=1e-5, \n",
    "                  eps=1e-8)\n",
    "                  \n",
    "epochs = 10\n",
    "\n",
    "scheduler = get_linear_schedule_with_warmup(optimizer, \n",
    "                                            num_warmup_steps=0,\n",
    "                                            num_training_steps=len(dataloader_train)*epochs)"
   ],
   "metadata": {
    "execution": {
     "iopub.status.busy": "2023-04-03T02:03:16.973882Z",
     "iopub.execute_input": "2023-04-03T02:03:16.974583Z",
     "iopub.status.idle": "2023-04-03T02:03:16.987007Z",
     "shell.execute_reply.started": "2023-04-03T02:03:16.974544Z",
     "shell.execute_reply": "2023-04-03T02:03:16.985799Z"
    },
    "trusted": true
   },
   "execution_count": 123,
   "outputs": [
    {
     "name": "stderr",
     "text": "/opt/conda/lib/python3.7/site-packages/transformers/optimization.py:395: FutureWarning: This implementation of AdamW is deprecated and will be removed in a future version. Use the PyTorch implementation torch.optim.AdamW instead, or set `no_deprecation_warning=True` to disable this warning\n  FutureWarning,\n",
     "output_type": "stream"
    }
   ]
  },
  {
   "cell_type": "code",
   "source": [
    "from sklearn.metrics import f1_score\n",
    "\n",
    "def f1_score_func(preds, labels):\n",
    "    preds_flat = np.argmax(preds, axis=1).flatten()\n",
    "    labels_flat = labels.flatten()\n",
    "    return f1_score(labels_flat, preds_flat, average='weighted')\n",
    "\n",
    "def accuracy_per_class(preds, labels):\n",
    "    label_dict_inverse = {v: k for k, v in label_dict.items()}\n",
    "    \n",
    "    preds_flat = np.argmax(preds, axis=1).flatten()\n",
    "    labels_flat = labels.flatten()\n",
    "\n",
    "    for label in np.unique(labels_flat):\n",
    "        y_preds = preds_flat[labels_flat==label]\n",
    "        y_true = labels_flat[labels_flat==label]\n",
    "        print(f'Class: {label_dict_inverse[label]}')\n",
    "        print(f'Accuracy: {len(y_preds[y_preds==label])}/{len(y_true)}\\n')"
   ],
   "metadata": {
    "execution": {
     "iopub.status.busy": "2023-04-03T02:03:16.988851Z",
     "iopub.execute_input": "2023-04-03T02:03:16.989318Z",
     "iopub.status.idle": "2023-04-03T02:03:16.997079Z",
     "shell.execute_reply.started": "2023-04-03T02:03:16.989280Z",
     "shell.execute_reply": "2023-04-03T02:03:16.995771Z"
    },
    "trusted": true
   },
   "execution_count": 124,
   "outputs": []
  },
  {
   "cell_type": "code",
   "source": [
    "import os\n",
    "\n",
    "# Create the directory 'data_volume' if it does not already exist\n",
    "if not os.path.exists('data_volume'):\n",
    "    os.makedirs('data_volume')\n",
    "\n",
    "import torch\n",
    "\n",
    "if torch.cuda.is_available():\n",
    "    device = torch.device(\"cuda\")\n",
    "else:\n",
    "    device = torch.device(\"cpu\")"
   ],
   "metadata": {
    "execution": {
     "iopub.status.busy": "2023-04-03T02:03:16.998920Z",
     "iopub.execute_input": "2023-04-03T02:03:16.999340Z",
     "iopub.status.idle": "2023-04-03T02:03:17.012563Z",
     "shell.execute_reply.started": "2023-04-03T02:03:16.999290Z",
     "shell.execute_reply": "2023-04-03T02:03:17.011327Z"
    },
    "trusted": true
   },
   "execution_count": 125,
   "outputs": []
  },
  {
   "cell_type": "code",
   "source": [
    "if torch.cuda.is_available():\n",
    "    device = torch.device(\"cuda\")\n",
    "else:\n",
    "    device = torch.device(\"cpu\")\n",
    "\n",
    "import random\n",
    "seed_val = 17\n",
    "random.seed(seed_val)\n",
    "np.random.seed(seed_val)\n",
    "torch.manual_seed(seed_val)\n",
    "torch.cuda.manual_seed_all(seed_val)\n",
    "\n",
    "def evaluate(dataloader_val):\n",
    "\n",
    "    model.eval()\n",
    "    \n",
    "    loss_val_total = 0\n",
    "    predictions, true_vals = [], []\n",
    "    \n",
    "    for batch in dataloader_val:\n",
    "        \n",
    "        batch = tuple(b.to(device) for b in batch)\n",
    "        \n",
    "        inputs = {'input_ids':      batch[0].to(device),\n",
    "                  'attention_mask': batch[1].to(device),\n",
    "                  'labels':         batch[2].to(device),\n",
    "                 }\n",
    "\n",
    "        with torch.no_grad():        \n",
    "            outputs = model(**inputs)\n",
    "            \n",
    "        loss = outputs[0]\n",
    "        logits = outputs[1]\n",
    "        loss_val_total += loss.item()\n",
    "\n",
    "        logits = logits.detach().cpu().numpy()\n",
    "        label_ids = inputs['labels'].cpu().numpy()\n",
    "        predictions.append(logits)\n",
    "        true_vals.append(label_ids)\n",
    "    \n",
    "    loss_val_avg = loss_val_total/len(dataloader_val) \n",
    "    \n",
    "    predictions = np.concatenate(predictions, axis=0)\n",
    "    true_vals = np.concatenate(true_vals, axis=0)\n",
    "            \n",
    "    return loss_val_avg, predictions, true_vals\n",
    "    \n",
    "if torch.cuda.is_available():\n",
    "    device = torch.device(\"cuda\")\n",
    "else:\n",
    "    device = torch.device(\"cpu\")\n",
    "    \n",
    "model.to(device)\n",
    "\n",
    "for epoch in tqdm(range(1, epochs+1)):\n",
    "    \n",
    "    model.train()\n",
    "    \n",
    "    loss_train_total = 0\n",
    "\n",
    "    progress_bar = tqdm(dataloader_train, desc='Epoch {:1d}'.format(epoch), leave=False, disable=False)\n",
    "    for batch in progress_bar:\n",
    "\n",
    "        model.zero_grad()\n",
    "        \n",
    "        batch = tuple(b.to(device) for b in batch)\n",
    "        \n",
    "        inputs = {'input_ids':      batch[0].to(device),\n",
    "                  'attention_mask': batch[1].to(device),\n",
    "                  'labels':         batch[2].to(device),\n",
    "                 }       \n",
    "\n",
    "        outputs = model(**inputs)\n",
    "        \n",
    "        loss = outputs[0]\n",
    "        loss_train_total += loss.item()\n",
    "        loss.backward()\n",
    "\n",
    "        torch.nn.utils.clip_grad_norm_(model.parameters(), 1.0)\n",
    "\n",
    "        optimizer.step()\n",
    "        scheduler.step()\n",
    "        \n",
    "        progress_bar.set_postfix({'training_loss': '{:.3f}'.format(loss.item()/len(batch))})\n",
    "         \n",
    "        \n",
    "    torch.save(model.state_dict(), f'data_volume/finetuned_BERT_epoch_{epoch}.model')\n",
    "        \n",
    "    tqdm.write(f'\\nEpoch {epoch}')\n",
    "    \n",
    "    loss_train_avg = loss_train_total/len(dataloader_train)            \n",
    "    tqdm.write(f'Training loss: {loss_train_avg}')\n",
    "    \n",
    "    val_loss, predictions, true_vals = evaluate(dataloader_validation)\n",
    "    val_f1 = f1_score_func(predictions, true_vals)\n",
    "    tqdm.write(f'Validation loss: {val_loss}')\n",
    "    tqdm.write(f'F1 Score (Weighted): {val_f1}')"
   ],
   "metadata": {
    "execution": {
     "iopub.status.busy": "2023-04-03T02:08:29.372478Z",
     "iopub.execute_input": "2023-04-03T02:08:29.373377Z",
     "iopub.status.idle": "2023-04-03T02:37:31.326734Z",
     "shell.execute_reply.started": "2023-04-03T02:08:29.373331Z",
     "shell.execute_reply": "2023-04-03T02:37:31.325385Z"
    },
    "trusted": true
   },
   "execution_count": 134,
   "outputs": [
    {
     "output_type": "display_data",
     "data": {
      "text/plain": "  0%|          | 0/10 [00:00<?, ?it/s]",
      "application/vnd.jupyter.widget-view+json": {
       "version_major": 2,
       "version_minor": 0,
       "model_id": "09d00093c56744748e31db7719dbf888"
      }
     },
     "metadata": {}
    },
    {
     "output_type": "display_data",
     "data": {
      "text/plain": "Epoch 1:   0%|          | 0/248 [00:00<?, ?it/s]",
      "application/vnd.jupyter.widget-view+json": {
       "version_major": 2,
       "version_minor": 0,
       "model_id": ""
      }
     },
     "metadata": {}
    },
    {
     "name": "stdout",
     "text": "\nEpoch 1\nTraining loss: 1.3495861104419153\nValidation loss: 1.34909987449646\nF1 Score (Weighted): 0.2506290845993313\n",
     "output_type": "stream"
    },
    {
     "output_type": "display_data",
     "data": {
      "text/plain": "Epoch 2:   0%|          | 0/248 [00:00<?, ?it/s]",
      "application/vnd.jupyter.widget-view+json": {
       "version_major": 2,
       "version_minor": 0,
       "model_id": ""
      }
     },
     "metadata": {}
    },
    {
     "name": "stdout",
     "text": "\nEpoch 2\nTraining loss: 1.3307058796767266\nValidation loss: 1.3335712226954373\nF1 Score (Weighted): 0.284363567734487\n",
     "output_type": "stream"
    },
    {
     "output_type": "display_data",
     "data": {
      "text/plain": "Epoch 3:   0%|          | 0/248 [00:00<?, ?it/s]",
      "application/vnd.jupyter.widget-view+json": {
       "version_major": 2,
       "version_minor": 0,
       "model_id": ""
      }
     },
     "metadata": {}
    },
    {
     "name": "stdout",
     "text": "\nEpoch 3\nTraining loss: 1.319238501691049\nValidation loss: 1.3278703120621769\nF1 Score (Weighted): 0.30203100227468066\n",
     "output_type": "stream"
    },
    {
     "output_type": "display_data",
     "data": {
      "text/plain": "Epoch 4:   0%|          | 0/248 [00:00<?, ?it/s]",
      "application/vnd.jupyter.widget-view+json": {
       "version_major": 2,
       "version_minor": 0,
       "model_id": ""
      }
     },
     "metadata": {}
    },
    {
     "name": "stdout",
     "text": "\nEpoch 4\nTraining loss: 1.3024231409353595\nValidation loss: 1.3144480978900737\nF1 Score (Weighted): 0.3374806044698076\n",
     "output_type": "stream"
    },
    {
     "output_type": "display_data",
     "data": {
      "text/plain": "Epoch 5:   0%|          | 0/248 [00:00<?, ?it/s]",
      "application/vnd.jupyter.widget-view+json": {
       "version_major": 2,
       "version_minor": 0,
       "model_id": ""
      }
     },
     "metadata": {}
    },
    {
     "name": "stdout",
     "text": "\nEpoch 5\nTraining loss: 1.294513325056722\nValidation loss: 1.3137548471038991\nF1 Score (Weighted): 0.31995552185821136\n",
     "output_type": "stream"
    },
    {
     "output_type": "display_data",
     "data": {
      "text/plain": "Epoch 6:   0%|          | 0/248 [00:00<?, ?it/s]",
      "application/vnd.jupyter.widget-view+json": {
       "version_major": 2,
       "version_minor": 0,
       "model_id": ""
      }
     },
     "metadata": {}
    },
    {
     "name": "stdout",
     "text": "\nEpoch 6\nTraining loss: 1.2839205870705266\nValidation loss: 1.3176372024145993\nF1 Score (Weighted): 0.32100452057411966\n",
     "output_type": "stream"
    },
    {
     "output_type": "display_data",
     "data": {
      "text/plain": "Epoch 7:   0%|          | 0/248 [00:00<?, ?it/s]",
      "application/vnd.jupyter.widget-view+json": {
       "version_major": 2,
       "version_minor": 0,
       "model_id": ""
      }
     },
     "metadata": {}
    },
    {
     "name": "stdout",
     "text": "\nEpoch 7\nTraining loss: 1.2711385531771568\nValidation loss: 1.313398079438643\nF1 Score (Weighted): 0.3437462471761924\n",
     "output_type": "stream"
    },
    {
     "output_type": "display_data",
     "data": {
      "text/plain": "Epoch 8:   0%|          | 0/248 [00:00<?, ?it/s]",
      "application/vnd.jupyter.widget-view+json": {
       "version_major": 2,
       "version_minor": 0,
       "model_id": ""
      }
     },
     "metadata": {}
    },
    {
     "name": "stdout",
     "text": "\nEpoch 8\nTraining loss: 1.2603423196461894\nValidation loss: 1.3137174980206923\nF1 Score (Weighted): 0.32600339608715195\n",
     "output_type": "stream"
    },
    {
     "output_type": "display_data",
     "data": {
      "text/plain": "Epoch 9:   0%|          | 0/248 [00:00<?, ?it/s]",
      "application/vnd.jupyter.widget-view+json": {
       "version_major": 2,
       "version_minor": 0,
       "model_id": "eb3fc1dc294741ee84fb1ccdd7a3db90"
      }
     },
     "metadata": {}
    },
    {
     "text": "IOPub message rate exceeded.\nThe notebook server will temporarily stop sending output\nto the client in order to avoid crashing it.\nTo change this limit, set the config variable\n`--NotebookApp.iopub_msg_rate_limit`.\n\nCurrent values:\nNotebookApp.iopub_msg_rate_limit=1000.0 (msgs/sec)\nNotebookApp.rate_limit_window=3.0 (secs)\n\n",
     "name": "stderr",
     "output_type": "stream"
    }
   ]
  },
  {
   "cell_type": "code",
   "source": [
    "model = BertForSequenceClassification.from_pretrained(\"bert-base-uncased\",\n",
    "                                                      num_labels=len(label_dict),\n",
    "                                                      output_attentions=False,\n",
    "                                                      output_hidden_states=False)\n",
    "\n",
    "model.to(device)\n",
    "\n",
    "model.load_state_dict(torch.load('data_volume/finetuned_BERT_epoch_2.model', map_location=torch.device('cpu')))\n",
    "\n",
    "_, predictions, true_vals = evaluate(dataloader_validation)\n",
    "accuracy_per_class(predictions, true_vals)"
   ],
   "metadata": {
    "execution": {
     "iopub.status.busy": "2023-04-03T02:47:58.764321Z",
     "iopub.execute_input": "2023-04-03T02:47:58.764792Z",
     "iopub.status.idle": "2023-04-03T02:48:13.120007Z",
     "shell.execute_reply.started": "2023-04-03T02:47:58.764741Z",
     "shell.execute_reply": "2023-04-03T02:48:13.118976Z"
    },
    "trusted": true
   },
   "execution_count": 135,
   "outputs": [
    {
     "name": "stderr",
     "text": "Some weights of the model checkpoint at bert-base-uncased were not used when initializing BertForSequenceClassification: ['cls.predictions.transform.LayerNorm.bias', 'cls.predictions.bias', 'cls.predictions.transform.LayerNorm.weight', 'cls.seq_relationship.weight', 'cls.predictions.transform.dense.bias', 'cls.predictions.transform.dense.weight', 'cls.predictions.decoder.weight', 'cls.seq_relationship.bias']\n- This IS expected if you are initializing BertForSequenceClassification from the checkpoint of a model trained on another task or with another architecture (e.g. initializing a BertForSequenceClassification model from a BertForPreTraining model).\n- This IS NOT expected if you are initializing BertForSequenceClassification from the checkpoint of a model that you expect to be exactly identical (initializing a BertForSequenceClassification model from a BertForSequenceClassification model).\nSome weights of BertForSequenceClassification were not initialized from the model checkpoint at bert-base-uncased and are newly initialized: ['classifier.bias', 'classifier.weight']\nYou should probably TRAIN this model on a down-stream task to be able to use it for predictions and inference.\n",
     "output_type": "stream"
    },
    {
     "name": "stdout",
     "text": "Class: Hate speech\nAccuracy: 75/201\n\nClass: Neutral\nAccuracy: 50/186\n\nClass: Sexism\nAccuracy: 0/157\n\nClass: Racist\nAccuracy: 112/155\n\n",
     "output_type": "stream"
    }
   ]
  },
  {
   "cell_type": "code",
   "source": [
    "# plt.figure(figsize=(10, 10))\n",
    "# plt.title('Accuracy')\n",
    "\n",
    "# xaxis = np.arange(len(history.history['accuracy']))\n",
    "# plt.plot(xaxis, history.history['accuracy'], label='Train set')\n",
    "# plt.plot(xaxis, history.history['val_accuracy'], label='Validation set')\n",
    "# plt.legend()"
   ],
   "metadata": {
    "execution": {
     "iopub.status.busy": "2023-04-03T02:48:21.814571Z",
     "iopub.execute_input": "2023-04-03T02:48:21.815103Z",
     "iopub.status.idle": "2023-04-03T02:48:22.356077Z",
     "shell.execute_reply.started": "2023-04-03T02:48:21.815063Z",
     "shell.execute_reply": "2023-04-03T02:48:22.353139Z"
    },
    "trusted": true
   },
   "execution_count": 136,
   "outputs": [
    {
     "traceback": [
      "\u001B[0;31m---------------------------------------------------------------------------\u001B[0m",
      "\u001B[0;31mNameError\u001B[0m                                 Traceback (most recent call last)",
      "\u001B[0;32m/tmp/ipykernel_746/22576560.py\u001B[0m in \u001B[0;36m<module>\u001B[0;34m\u001B[0m\n\u001B[1;32m      2\u001B[0m \u001B[0mplt\u001B[0m\u001B[0;34m.\u001B[0m\u001B[0mtitle\u001B[0m\u001B[0;34m(\u001B[0m\u001B[0;34m'Accuracy'\u001B[0m\u001B[0;34m)\u001B[0m\u001B[0;34m\u001B[0m\u001B[0;34m\u001B[0m\u001B[0m\n\u001B[1;32m      3\u001B[0m \u001B[0;34m\u001B[0m\u001B[0m\n\u001B[0;32m----> 4\u001B[0;31m \u001B[0mxaxis\u001B[0m \u001B[0;34m=\u001B[0m \u001B[0mnp\u001B[0m\u001B[0;34m.\u001B[0m\u001B[0marange\u001B[0m\u001B[0;34m(\u001B[0m\u001B[0mlen\u001B[0m\u001B[0;34m(\u001B[0m\u001B[0mhistory\u001B[0m\u001B[0;34m.\u001B[0m\u001B[0mhistory\u001B[0m\u001B[0;34m[\u001B[0m\u001B[0;34m'accuracy'\u001B[0m\u001B[0;34m]\u001B[0m\u001B[0;34m)\u001B[0m\u001B[0;34m)\u001B[0m\u001B[0;34m\u001B[0m\u001B[0;34m\u001B[0m\u001B[0m\n\u001B[0m\u001B[1;32m      5\u001B[0m \u001B[0mplt\u001B[0m\u001B[0;34m.\u001B[0m\u001B[0mplot\u001B[0m\u001B[0;34m(\u001B[0m\u001B[0mxaxis\u001B[0m\u001B[0;34m,\u001B[0m \u001B[0mhistory\u001B[0m\u001B[0;34m.\u001B[0m\u001B[0mhistory\u001B[0m\u001B[0;34m[\u001B[0m\u001B[0;34m'accuracy'\u001B[0m\u001B[0;34m]\u001B[0m\u001B[0;34m,\u001B[0m \u001B[0mlabel\u001B[0m\u001B[0;34m=\u001B[0m\u001B[0;34m'Train set'\u001B[0m\u001B[0;34m)\u001B[0m\u001B[0;34m\u001B[0m\u001B[0;34m\u001B[0m\u001B[0m\n\u001B[1;32m      6\u001B[0m \u001B[0mplt\u001B[0m\u001B[0;34m.\u001B[0m\u001B[0mplot\u001B[0m\u001B[0;34m(\u001B[0m\u001B[0mxaxis\u001B[0m\u001B[0;34m,\u001B[0m \u001B[0mhistory\u001B[0m\u001B[0;34m.\u001B[0m\u001B[0mhistory\u001B[0m\u001B[0;34m[\u001B[0m\u001B[0;34m'val_accuracy'\u001B[0m\u001B[0;34m]\u001B[0m\u001B[0;34m,\u001B[0m \u001B[0mlabel\u001B[0m\u001B[0;34m=\u001B[0m\u001B[0;34m'Validation set'\u001B[0m\u001B[0;34m)\u001B[0m\u001B[0;34m\u001B[0m\u001B[0;34m\u001B[0m\u001B[0m\n",
      "\u001B[0;31mNameError\u001B[0m: name 'history' is not defined"
     ],
     "ename": "NameError",
     "evalue": "name 'history' is not defined",
     "output_type": "error"
    },
    {
     "output_type": "display_data",
     "data": {
      "text/plain": "<Figure size 1000x1000 with 1 Axes>",
      "image/png": "[encoded data removed]"
     },
     "metadata": {}
    }
   ]
  },
  {
   "cell_type": "code",
   "source": [
    "# def plot_confusion_matrix(X_test, y_test, model):\n",
    "#     y_pred = model.predict(X_test)\n",
    "#     y_pred = [np.argmax(i) for i in model.predict(X_test)]\n",
    "\n",
    "#     con_mat = tf.math.confusion_matrix(labels=y_test, predictions=y_pred).numpy()\n",
    "\n",
    "#     con_mat_norm = np.around(con_mat.astype('float') / con_mat.sum(axis=1)[:, np.newaxis], decimals=2)\n",
    "#     label_names = list(range(len(con_mat_norm)))\n",
    "\n",
    "#     con_mat_df = pd.DataFrame(con_mat_norm,\n",
    "#                               index=label_names, \n",
    "#                               columns=label_names)\n",
    "\n",
    "#     figure = plt.figure(figsize=(10, 10))\n",
    "#     sns.heatmap(con_mat_df, cmap=plt.cm.Blues, annot=True)\n",
    "#     plt.ylabel('True label')\n",
    "#     plt.xlabel('Predicted label')"
   ],
   "metadata": {
    "execution": {
     "iopub.status.busy": "2023-04-03T02:03:17.122877Z",
     "iopub.status.idle": "2023-04-03T02:03:17.123542Z",
     "shell.execute_reply.started": "2023-04-03T02:03:17.123245Z",
     "shell.execute_reply": "2023-04-03T02:03:17.123286Z"
    },
    "trusted": true
   },
   "execution_count": null,
   "outputs": []
  },
  {
   "cell_type": "code",
   "source": [
    "# scores = model.evaluate(X_test, y_test, verbose=0)\n",
    "# print(\"Accuracy: %.2f%%\" % (scores[1] * 100))"
   ],
   "metadata": {
    "execution": {
     "iopub.status.busy": "2023-04-03T02:03:17.125599Z",
     "iopub.status.idle": "2023-04-03T02:03:17.126759Z",
     "shell.execute_reply.started": "2023-04-03T02:03:17.126467Z",
     "shell.execute_reply": "2023-04-03T02:03:17.126497Z"
    },
    "trusted": true
   },
   "execution_count": null,
   "outputs": []
  },
  {
   "cell_type": "code",
   "source": [
    "# plot_confusion_matrix(X_test, y_test, model)"
   ],
   "metadata": {
    "execution": {
     "iopub.status.busy": "2023-04-03T02:03:17.128320Z",
     "iopub.status.idle": "2023-04-03T02:03:17.129236Z",
     "shell.execute_reply.started": "2023-04-03T02:03:17.128892Z",
     "shell.execute_reply": "2023-04-03T02:03:17.128922Z"
    },
    "trusted": true
   },
   "execution_count": null,
   "outputs": []
  },
  {
   "cell_type": "code",
   "source": [],
   "metadata": {},
   "execution_count": null,
   "outputs": []
  }
 ]
}
